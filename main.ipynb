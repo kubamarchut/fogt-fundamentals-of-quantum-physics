{
  "cells": [
    {
      "cell_type": "code",
      "execution_count": null,
      "metadata": {
        "id": "Lz1XHFnqslmC"
      },
      "outputs": [],
      "source": [
        "import sympy as sp\n",
        "import numpy as np\n",
        "import matplotlib.pyplot as plt\n",
        "from sympy.utilities import lambdify\n",
        "from matplotlib.animation import FuncAnimation\n",
        "from IPython.display import HTML"
      ]
    },
    {
      "cell_type": "code",
      "execution_count": null,
      "metadata": {
        "id": "WvJLQY_r1_mH"
      },
      "outputs": [],
      "source": [
        "sp.init_printing()"
      ]
    },
    {
      "cell_type": "code",
      "execution_count": null,
      "metadata": {
        "colab": {
          "base_uri": "https://localhost:8080/",
          "height": 38
        },
        "id": "Ml5lsbqCs3Vp",
        "outputId": "09a534bd-5d4b-45ac-f540-5df3180c28a1"
      },
      "outputs": [],
      "source": [
        "x = sp.Symbol('x', real = True)\n",
        "k = sp.Symbol('k', real = True, positive = True)\n",
        "a = sp.Symbol('a', real = True)\n",
        "n = sp.Symbol('n', integer = True, nonzero = True)\n",
        "m = sp.Symbol('m', real = True, positive = True)\n",
        "t = sp.Symbol('t', real = True, positive = True)\n",
        "h = sp.Symbol('hbar', real = True, positive = True)\n",
        "psi = sp.Function('\\psi')\n",
        "\n",
        "x, k, a, psi(x), n, m, h, t"
      ]
    },
    {
      "cell_type": "code",
      "execution_count": null,
      "metadata": {
        "colab": {
          "base_uri": "https://localhost:8080/",
          "height": 54
        },
        "id": "2dJnTcQ14XxW",
        "outputId": "a1b2abf6-1d33-46d9-b414-01b7b14046eb"
      },
      "outputs": [],
      "source": [
        "psi(x).diff(x, 2)"
      ]
    },
    {
      "cell_type": "code",
      "execution_count": null,
      "metadata": {
        "colab": {
          "base_uri": "https://localhost:8080/",
          "height": 38
        },
        "id": "2ooxfhEB3CXP",
        "outputId": "b5cda252-1274-4b56-ff84-e45f5edeab3c"
      },
      "outputs": [],
      "source": [
        "-k**2 * psi(x)"
      ]
    },
    {
      "cell_type": "code",
      "execution_count": null,
      "metadata": {
        "colab": {
          "base_uri": "https://localhost:8080/",
          "height": 54
        },
        "id": "04nF2uRa4z9y",
        "outputId": "536d7c88-14ef-41e5-abde-70e6d403d75b"
      },
      "outputs": [],
      "source": [
        "eq = sp.Eq(psi(x).diff(x, x), -k**2 * psi(x))\n",
        "eq"
      ]
    },
    {
      "cell_type": "code",
      "execution_count": null,
      "metadata": {
        "colab": {
          "base_uri": "https://localhost:8080/",
          "height": 38
        },
        "id": "Lrxf5p7C5ESL",
        "outputId": "dd3a0edf-9049-43c3-bee2-e42a6f038fa3"
      },
      "outputs": [],
      "source": [
        "sol = sp.dsolve(eq, psi(x), ics = {psi(0): 0, psi(a): 0})\n",
        "sol"
      ]
    },
    {
      "cell_type": "code",
      "execution_count": null,
      "metadata": {
        "colab": {
          "base_uri": "https://localhost:8080/",
          "height": 38
        },
        "id": "2smfzOGt7sqE",
        "outputId": "e2461e3e-082d-4887-ad47-34a0c9a1fe91"
      },
      "outputs": [],
      "source": [
        "sol = sp.dsolve(eq, psi(x), ics = {psi(0): 0})\n",
        "sol"
      ]
    },
    {
      "cell_type": "code",
      "execution_count": null,
      "metadata": {},
      "outputs": [],
      "source": [
        "plt.hlines(np.arange(1, 10)**2, 0, 1)"
      ]
    },
    {
      "cell_type": "code",
      "execution_count": null,
      "metadata": {},
      "outputs": [],
      "source": [
        "sol = sol.subs(k, n * sp.pi /a)\n",
        "sol"
      ]
    },
    {
      "cell_type": "code",
      "execution_count": null,
      "metadata": {},
      "outputs": [],
      "source": [
        "sol.lhs, sol.rhs"
      ]
    },
    {
      "cell_type": "code",
      "execution_count": null,
      "metadata": {},
      "outputs": [],
      "source": [
        "sp.Abs(sol.rhs)**2"
      ]
    },
    {
      "cell_type": "code",
      "execution_count": null,
      "metadata": {},
      "outputs": [],
      "source": [
        "sp.integrate((sol.rhs)**2, (x, 0, a))"
      ]
    },
    {
      "cell_type": "code",
      "execution_count": null,
      "metadata": {},
      "outputs": [],
      "source": [
        "sol = sol.subs(sp.Symbol('C1'), sp.sqrt(2 / a))\n",
        "sol"
      ]
    },
    {
      "cell_type": "code",
      "execution_count": null,
      "metadata": {},
      "outputs": [],
      "source": [
        "n**2 * sp.pi**2 * h**2 / (2 * m * a**2)"
      ]
    },
    {
      "cell_type": "code",
      "execution_count": null,
      "metadata": {},
      "outputs": [],
      "source": [
        "sp.exp(-sp.I * n**2 * sp.pi**2 * h**2 / (2 * m * a**2) * t / h)"
      ]
    },
    {
      "cell_type": "code",
      "execution_count": null,
      "metadata": {},
      "outputs": [],
      "source": [
        "Psi = sol.rhs * sp.exp(-sp.I * n**2 * sp.pi**2 * h**2 / (2 * m * a**2) * t / h)\n",
        "Psi"
      ]
    },
    {
      "cell_type": "code",
      "execution_count": null,
      "metadata": {},
      "outputs": [],
      "source": [
        "Psif = lambdify((x, t, n), Psi.subs({h: 1, m: 1, a: 1}))"
      ]
    },
    {
      "cell_type": "code",
      "execution_count": null,
      "metadata": {},
      "outputs": [],
      "source": [
        "Psif(0.3, 2.3, 1)"
      ]
    },
    {
      "cell_type": "code",
      "execution_count": null,
      "metadata": {},
      "outputs": [],
      "source": [
        "xs = np.linspace(0, 1, 1000)\n",
        "\n",
        "plt.grid(linestyle = \"--\")\n",
        "\n",
        "ys = Psif(xs, 0, 1).real\n",
        "plt.plot(xs, ys)\n",
        "\n",
        "ys = Psif(xs, 0, 2).real\n",
        "plt.plot(xs, ys)\n",
        "\n",
        "ys = Psif(xs, 0, 3).real\n",
        "plt.plot(xs, ys)\n",
        "\n",
        "ys = Psif(xs, 0, 4).real\n",
        "plt.plot(xs, ys)"
      ]
    },
    {
      "cell_type": "code",
      "execution_count": null,
      "metadata": {},
      "outputs": [],
      "source": [
        "n = 3\n",
        "\n",
        "xs = np.linspace(0, 1, 1000)\n",
        "\n",
        "fig = plt.figure()\n",
        "\n",
        "plt.xlim(0, 1)\n",
        "plt.ylim(-1.5, 1.5)\n",
        "\n",
        "plot1, = plt.plot([], [])\n",
        "plot2, = plt.plot([], [])\n",
        "\n",
        "plt.close()\n",
        "\n",
        "dt = 0.001\n",
        "\n",
        "def frame(i):\n",
        "    t = i * dt\n",
        "\n",
        "    ys = Psif(xs, t, n)\n",
        "    ys1 = ys.real\n",
        "    ys2 = ys.imag\n",
        "\n",
        "    plot1.set_data(xs, ys1)\n",
        "    plot2.set_data(xs, ys2)\n",
        "\n",
        "    return plot1, plot2\n",
        "\n",
        "anim = FuncAnimation(fig, frame, 300, interval = 20, blit = True)\n",
        "HTML(anim.to_jshtml())"
      ]
    },
    {
      "cell_type": "code",
      "execution_count": null,
      "metadata": {},
      "outputs": [],
      "source": [
        "n = 3\n",
        "\n",
        "xs = np.linspace(0, 1, 1000)\n",
        "\n",
        "fig = plt.figure()\n",
        "\n",
        "plt.xlim(0, 1)\n",
        "plt.ylim(0, 2.5)\n",
        "\n",
        "plot1, = plt.plot([], [])\n",
        "\n",
        "plt.close()\n",
        "\n",
        "dt = 0.001\n",
        "\n",
        "def frame(i):\n",
        "    t = i * dt\n",
        "\n",
        "    ys = Psif(xs, t, n)\n",
        "    ys1 = np.abs(ys)**2\n",
        "\n",
        "    plot1.set_data(xs, ys1)\n",
        "\n",
        "    return plot1,\n",
        "\n",
        "anim = FuncAnimation(fig, frame, 300, interval = 20, blit = True)\n",
        "HTML(anim.to_jshtml())"
      ]
    },
    {
      "cell_type": "code",
      "execution_count": null,
      "metadata": {},
      "outputs": [],
      "source": [
        "xs = np.linspace(0, 1, 1000)\n",
        "\n",
        "fig = plt.figure()\n",
        "\n",
        "plt.xlim(0, 1)\n",
        "plt.ylim(0, 4)\n",
        "\n",
        "plot1, = plt.plot([], [])\n",
        "\n",
        "plt.close()\n",
        "\n",
        "dt = 0.001\n",
        "\n",
        "def frame(i):\n",
        "    t = i * dt\n",
        "\n",
        "    ys = (Psif(xs, t, 1) + Psif(xs, t, 2) + Psif(xs, t, 3) + Psif(xs, t, 4)) / (np.sqrt(4))\n",
        "    ys1 = np.abs(ys)**2\n",
        "\n",
        "    plot1.set_data(xs, ys1)\n",
        "\n",
        "    return plot1,\n",
        "\n",
        "anim = FuncAnimation(fig, frame, 600, interval = 20, blit = True)\n",
        "HTML(anim.to_jshtml())"
      ]
    },
    {
      "cell_type": "code",
      "execution_count": null,
      "metadata": {},
      "outputs": [],
      "source": [
        "sol"
      ]
    },
    {
      "cell_type": "code",
      "execution_count": null,
      "metadata": {},
      "outputs": [],
      "source": [
        "sol.rhs * sol.rhs * x"
      ]
    },
    {
      "cell_type": "code",
      "execution_count": null,
      "metadata": {},
      "outputs": [],
      "source": [
        "sp.integrate(sol.rhs * sol.rhs * x, (x, 0, a)).simplify()"
      ]
    },
    {
      "cell_type": "code",
      "execution_count": null,
      "metadata": {},
      "outputs": [],
      "source": [
        "sp.integrate(sol.rhs * sol.rhs * x**2, (x, 0, a)).simplify()"
      ]
    },
    {
      "attachments": {},
      "cell_type": "markdown",
      "metadata": {},
      "source": [
        "$$<p>=?$$"
      ]
    },
    {
      "cell_type": "code",
      "execution_count": 147,
      "metadata": {},
      "outputs": [
        {
          "data": {
            "image/png": "[encoded data removed]",
            "text/latex": [
              "$\\displaystyle 0$"
            ],
            "text/plain": [
              "0"
            ]
          },
          "execution_count": 147,
          "metadata": {},
          "output_type": "execute_result"
        }
      ],
      "source": [
        "sp.integrate(sol.rhs * -sp.I*h.diff(x) * sol.rhs, (x, 0, a))"
      ]
    },
    {
      "attachments": {},
      "cell_type": "markdown",
      "metadata": {},
      "source": [
        "$$<p^2>=?$$"
      ]
    },
    {
      "cell_type": "code",
      "execution_count": 148,
      "metadata": {},
      "outputs": [
        {
          "data": {
            "image/png": "[encoded data removed]",
            "text/latex": [
              "$\\displaystyle \\frac{\\pi^{2} \\hbar^{2}}{a^{2}}$"
            ],
            "text/plain": [
              " 2  2\n",
              "π ⋅h̅ \n",
              "─────\n",
              "   2 \n",
              "  a  "
            ]
          },
          "execution_count": 148,
          "metadata": {},
          "output_type": "execute_result"
        }
      ],
      "source": [
        "sp.integrate(sol.rhs * (-(h**2) * (-sp.pi**2/a**2)) * sol.rhs, (x, 0, a)).simplify()"
      ]
    }
  ],
  "metadata": {
    "colab": {
      "provenance": []
    },
    "gpuClass": "standard",
    "kernelspec": {
      "display_name": "Python 3",
      "language": "python",
      "name": "python3"
    },
    "language_info": {
      "codemirror_mode": {
        "name": "ipython",
        "version": 3
      },
      "file_extension": ".py",
      "mimetype": "text/x-python",
      "name": "python",
      "nbconvert_exporter": "python",
      "pygments_lexer": "ipython3",
      "version": "3.10.5"
    },
    "vscode": {
      "interpreter": {
        "hash": "b05dbace91eebbffcc0f69cf33884360a3fec5a31fd8f3577ed759c46f637d2e"
      }
    }
  },
  "nbformat": 4,
  "nbformat_minor": 0
}
