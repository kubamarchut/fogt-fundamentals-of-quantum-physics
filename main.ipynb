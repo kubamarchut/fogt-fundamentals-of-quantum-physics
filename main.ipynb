{
  "cells": [
    {
      "cell_type": "code",
      "execution_count": 11,
      "metadata": {
        "id": "Lz1XHFnqslmC"
      },
      "outputs": [],
      "source": [
        "import sympy as sp\n",
        "import numpy as np\n",
        "import matplotlib.pyplot as plt"
      ]
    },
    {
      "cell_type": "code",
      "execution_count": 12,
      "metadata": {
        "id": "WvJLQY_r1_mH"
      },
      "outputs": [],
      "source": [
        "sp.init_printing()"
      ]
    },
    {
      "cell_type": "code",
      "execution_count": 13,
      "metadata": {
        "colab": {
          "base_uri": "https://localhost:8080/",
          "height": 38
        },
        "id": "Ml5lsbqCs3Vp",
        "outputId": "09a534bd-5d4b-45ac-f540-5df3180c28a1"
      },
      "outputs": [
        {
          "data": {
            "image/png": "[encoded data removed]",
            "text/latex": [
              "$\\displaystyle \\left( x, \\  k, \\  a, \\  \\psi{\\left(x \\right)}\\right)$"
            ],
            "text/plain": [
              "(x, k, a, \\psi(x))"
            ]
          },
          "execution_count": 13,
          "metadata": {},
          "output_type": "execute_result"
        }
      ],
      "source": [
        "x = sp.Symbol('x', real = True)\n",
        "k = sp.Symbol('k', real = True, positive = True)\n",
        "a = sp.Symbol('a', real = True)\n",
        "psi = sp.Function('\\psi')\n",
        "\n",
        "x, k, a, psi(x)"
      ]
    },
    {
      "cell_type": "code",
      "execution_count": 14,
      "metadata": {
        "colab": {
          "base_uri": "https://localhost:8080/",
          "height": 54
        },
        "id": "2dJnTcQ14XxW",
        "outputId": "a1b2abf6-1d33-46d9-b414-01b7b14046eb"
      },
      "outputs": [
        {
          "data": {
            "image/png": "[encoded data removed]",
            "text/latex": [
              "$\\displaystyle \\frac{d^{2}}{d x^{2}} \\psi{\\left(x \\right)}$"
            ],
            "text/plain": [
              "  2         \n",
              " d          \n",
              "───(\\psi(x))\n",
              "  2         \n",
              "dx          "
            ]
          },
          "execution_count": 14,
          "metadata": {},
          "output_type": "execute_result"
        }
      ],
      "source": [
        "psi(x).diff(x, 2)"
      ]
    },
    {
      "cell_type": "code",
      "execution_count": 15,
      "metadata": {
        "colab": {
          "base_uri": "https://localhost:8080/",
          "height": 38
        },
        "id": "2ooxfhEB3CXP",
        "outputId": "b5cda252-1274-4b56-ff84-e45f5edeab3c"
      },
      "outputs": [
        {
          "data": {
            "image/png": "[encoded data removed]",
            "text/latex": [
              "$\\displaystyle - k^{2} \\psi{\\left(x \\right)}$"
            ],
            "text/plain": [
              "  2        \n",
              "-k ⋅\\psi(x)"
            ]
          },
          "execution_count": 15,
          "metadata": {},
          "output_type": "execute_result"
        }
      ],
      "source": [
        "-k**2 * psi(x)"
      ]
    },
    {
      "cell_type": "code",
      "execution_count": 16,
      "metadata": {
        "colab": {
          "base_uri": "https://localhost:8080/",
          "height": 54
        },
        "id": "04nF2uRa4z9y",
        "outputId": "536d7c88-14ef-41e5-abde-70e6d403d75b"
      },
      "outputs": [
        {
          "data": {
            "image/png": "[encoded data removed]",
            "text/latex": [
              "$\\displaystyle \\frac{d^{2}}{d x^{2}} \\psi{\\left(x \\right)} = - k^{2} \\psi{\\left(x \\right)}$"
            ],
            "text/plain": [
              "  2                       \n",
              " d               2        \n",
              "───(\\psi(x)) = -k ⋅\\psi(x)\n",
              "  2                       \n",
              "dx                        "
            ]
          },
          "execution_count": 16,
          "metadata": {},
          "output_type": "execute_result"
        }
      ],
      "source": [
        "eq = sp.Eq(psi(x).diff(x, x), -k**2 * psi(x))\n",
        "eq"
      ]
    },
    {
      "cell_type": "code",
      "execution_count": 17,
      "metadata": {
        "colab": {
          "base_uri": "https://localhost:8080/",
          "height": 38
        },
        "id": "Lrxf5p7C5ESL",
        "outputId": "dd3a0edf-9049-43c3-bee2-e42a6f038fa3"
      },
      "outputs": [
        {
          "data": {
            "image/png": "[encoded data removed]",
            "text/latex": [
              "$\\displaystyle \\psi{\\left(x \\right)} = 0$"
            ],
            "text/plain": [
              "\\psi(x) = 0"
            ]
          },
          "execution_count": 17,
          "metadata": {},
          "output_type": "execute_result"
        }
      ],
      "source": [
        "sol = sp.dsolve(eq, psi(x), ics = {psi(0): 0, psi(a): 0})\n",
        "sol"
      ]
    },
    {
      "cell_type": "code",
      "execution_count": 18,
      "metadata": {
        "colab": {
          "base_uri": "https://localhost:8080/",
          "height": 38
        },
        "id": "2smfzOGt7sqE",
        "outputId": "e2461e3e-082d-4887-ad47-34a0c9a1fe91"
      },
      "outputs": [
        {
          "data": {
            "image/png": "[encoded data removed]",
            "text/latex": [
              "$\\displaystyle \\psi{\\left(x \\right)} = C_{1} \\sin{\\left(k x \\right)}$"
            ],
            "text/plain": [
              "\\psi(x) = C₁⋅sin(k⋅x)"
            ]
          },
          "execution_count": 18,
          "metadata": {},
          "output_type": "execute_result"
        }
      ],
      "source": [
        "sol = sp.dsolve(eq, psi(x), ics = {psi(0): 0})\n",
        "sol"
      ]
    }
  ],
  "metadata": {
    "colab": {
      "provenance": []
    },
    "gpuClass": "standard",
    "kernelspec": {
      "display_name": "Python 3",
      "language": "python",
      "name": "python3"
    },
    "language_info": {
      "codemirror_mode": {
        "name": "ipython",
        "version": 3
      },
      "file_extension": ".py",
      "mimetype": "text/x-python",
      "name": "python",
      "nbconvert_exporter": "python",
      "pygments_lexer": "ipython3",
      "version": "3.10.5"
    },
    "vscode": {
      "interpreter": {
        "hash": "b05dbace91eebbffcc0f69cf33884360a3fec5a31fd8f3577ed759c46f637d2e"
      }
    }
  },
  "nbformat": 4,
  "nbformat_minor": 0
}
